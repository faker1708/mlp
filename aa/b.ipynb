{
 "cells": [
  {
   "cell_type": "code",
   "execution_count": null,
   "metadata": {},
   "outputs": [],
   "source": [
    "import torch\n",
    "from torch import nn\n",
    "from d2l import torch as d2l\n",
    "\n",
    "\n",
    "\n",
    "class mlp():\n",
    "    def __init__(self,ll) -> None:\n",
    "        \n",
    "\n",
    "        \n",
    "        pass\n",
    "\n",
    "\n",
    "\n",
    "def fa():\n",
    "\n",
    "\n",
    "    net = nn.Sequential(nn.Flatten(),\n",
    "                        nn.Linear(784, 256),\n",
    "                        nn.ReLU(),\n",
    "                        nn.Linear(256, 10))\n",
    "\n",
    "    def init_weights(m):\n",
    "        if type(m) == nn.Linear:\n",
    "            nn.init.normal_(m.weight, std=0.01)\n",
    "\n",
    "    net.apply(init_weights)\n",
    "\n",
    "\n",
    "\n",
    "    batch_size, lr, num_epochs = 256, 0.1, 10\n",
    "    loss = nn.CrossEntropyLoss(reduction='none')\n",
    "    trainer = torch.optim.SGD(net.parameters(), lr=lr)\n",
    "\n",
    "    train_iter, test_iter = d2l.load_data_fashion_mnist(batch_size)\n",
    "    d2l.train_ch3(net, train_iter, test_iter, loss, num_epochs, trainer)\n",
    "\n",
    "\n",
    "def fb():\n",
    "    ll = [784,256,10]\n",
    "    aa = mlp(ll)\n",
    "    \n",
    "\n",
    "fb()\n"
   ]
  }
 ],
 "metadata": {
  "language_info": {
   "name": "python"
  },
  "orig_nbformat": 4
 },
 "nbformat": 4,
 "nbformat_minor": 2
}
